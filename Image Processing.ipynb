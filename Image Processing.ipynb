#install opencv
!pip install opencv-python
!pip install numpy
!pip install matplotilib

import cv2
import numpy as np
import matplotlib.pyplot as plt

#import the image
img1 = cv2.imread('sample.jpg')
print(img1)

plt.imshow(img1)

img1.shape

#modifying and accessing pixels
img1[300:900,100:200] = [0,255,255]
plt.imshow(img1)

box= img1[250:350, 100:200]
img1[433:533, 400:500] = box
plt.imshow(img1)

cv2.imwrite('saved_image.png',img1)

#padding
img1=cv2.imread('logo.png')
reflect = cv2.copyMakeBorder(img1,100,100,100,100,cv2.BORDER_REFLECT)
wrap = cv2.copyMakeBorder(img1,100,100,100,100,cv2.BORDER_WRAP)
constant= cv2.copyMakeBorder(img1,100,10,10,10,cv2.BORDER_CONSTANT,value=[0,255,200])

plt.subplot(221)
plt.imshow(img1)
plt.title('ORIGINAL')
plt.axis('off')


plt.subplot(222)
plt.imshow(reflect)
plt.title('REFLECT')
plt.axis('off')



plt.subplot(223)
plt.imshow(wrap,'gray')
plt.title('WRAP')
plt.axis('off')

plt.subplot(224)
plt.imshow(constant,'gray')
plt.title('CONSTANT')
plt.axis('off')

plt.savefig("save_test.png")

# Import the  rgb image
#from google.colab.patches import cv2_imshow
img = cv2.imread('rgb.jpg')
plt.imshow(img)
#cv2_imshow(img)

# Convert the image into RGB

img_rgb = cv2.cvtColor(img, cv2.COLOR_BGR2RGB)
plt.imshow(img_rgb)

img2 = cv2.imread('bgr.png')
plt.imshow(img2)

b,g,r = cv2.split(img2)
plt.imshow(r,cmap='gray')

# Copy the image
img_copy = img.copy()

# Draw a rectangle 
cv2.rectangle(img_copy, pt1 = (20, 100), pt2 = (200, 200), 
              color = (255, 255, 0), thickness = 3)
plt.imshow(img_copy)

# Add text 
cv2.putText(img_copy, text = "TEXT", 
            org = (250, 250),
            fontFace = cv2.FONT_HERSHEY_DUPLEX, 
            fontScale = 2, 
            color = (0, 255, 0), 
            thickness = 8, 
           )
plt.imshow(img_copy)
